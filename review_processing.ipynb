{
 "cells": [
  {
   "cell_type": "code",
   "execution_count": null,
   "metadata": {},
   "outputs": [],
   "source": [
    "import phoenix as px"
   ]
  },
  {
   "cell_type": "code",
   "execution_count": null,
   "metadata": {},
   "outputs": [],
   "source": [
    "import llama_index\n",
    "from llama_index.core import Document\n",
    "from llama_index.indices.managed.vectara import VectaraIndex,VectaraAutoRetriever\n",
    "from llama_index.core.schema import TextNode\n",
    "from llama_index.core.vector_stores import MetadataInfo, VectorStoreInfo\n",
    "from llama_index.core.indices.service_context import ServiceContext\n",
    "from llama_index.llms.together import TogetherLLM\n",
    "from semantic_router import Route,RouteLayer\n",
    "from semantic_router.encoders import OpenAIEncoder\n",
    "\n",
    "from common_imports import *\n",
    "import json , os , sys , time , re\n",
    "import dotenv"
   ]
  },
  {
   "cell_type": "code",
   "execution_count": null,
   "metadata": {},
   "outputs": [],
   "source": [
    "px.launch_app()\n",
    "llama_index.core.set_global_handler(\"arize_phoenix\")"
   ]
  },
  {
   "cell_type": "code",
   "execution_count": null,
   "metadata": {},
   "outputs": [],
   "source": [
    "dotenv.load_dotenv()"
   ]
  },
  {
   "cell_type": "markdown",
   "metadata": {},
   "source": [
    "## Review Emb"
   ]
  },
  {
   "cell_type": "code",
   "execution_count": null,
   "metadata": {},
   "outputs": [],
   "source": [
    "def convert_reviews_into_textnodes(reviews):\n",
    "    # reviews : list of reviews \n",
    "    # review_documents = [Document(text=review['text'],metadata=review , doc_id=review['metadata']) for review in reviews]\n",
    "    review_nodes = [TextNode(text=review['text'],metadata={\n",
    "        'source':str(review['source']),\n",
    "        'date_time':str(review['metadata']['at']),\n",
    "        'reviewId':str(review['metadata']['reviewId']),\n",
    "        'userName':str(review['metadata']['userName']),\n",
    "        'rating':str(review['metadata']['score']),\n",
    "        'thumbsUpCount':str(review['metadata']['thumbsUpCount']),\n",
    "        'appVersion':str(review['metadata']['appVersion']),\n",
    "        'replyContent':str(review['metadata']['replyContent']),\n",
    "        'repliedAt':str(review['metadata']['repliedAt']),\n",
    "        'text':str(review['text']),\n",
    "        'app_name':str(review['app_name']),\n",
    "    },id_ = review['metadata']['reviewId']\n",
    "    ) for review in reviews]\n",
    "\n",
    "    return review_nodes"
   ]
  },
  {
   "cell_type": "code",
   "execution_count": null,
   "metadata": {},
   "outputs": [],
   "source": [
    "def get_reviews_from_file(file_path):\n",
    "    # file_path : path to the file containing reviews\n",
    "    # Returns list of reviews\n",
    "    with open(file_path,'r') as f:\n",
    "        reviews = json.load(f)\n",
    "    return reviews"
   ]
  },
  {
   "cell_type": "code",
   "execution_count": 211,
   "metadata": {},
   "outputs": [],
   "source": [
    "class ReviewEngine:\n",
    "    def __init__(\n",
    "            self,\n",
    "            verbose=True, \n",
    "            similarity_top_k=2,\n",
    "            summary_enabled=False,\n",
    "            summary_response_lang=\"eng\",\n",
    "            summary_num_results=7,\n",
    "            llm_model_name=\"mistralai/Mixtral-8x7B-Instruct-v0.1\",\n",
    "            ):\n",
    "        self.index = VectaraIndex(show_progress=True)\n",
    "        self.vector_store_info = VectorStoreInfo(\n",
    "            content_info = \"App reviews from different sources\",\n",
    "            metadata_info = [\n",
    "                MetadataInfo(\n",
    "                    name = \"source\",\n",
    "                    type = \"string\",\n",
    "                    description=\"Source of the review like playstore,appstore etc\"\n",
    "                ),\n",
    "                MetadataInfo(\n",
    "                    name = \"date_time\",\n",
    "                    type = \"string\",\n",
    "                    description=\"Date and time of the review\"\n",
    "                ),\n",
    "                MetadataInfo(\n",
    "                    name = \"reviewId\",\n",
    "                    type = \"string\",\n",
    "                    description=\"Review Id\"\n",
    "                ),\n",
    "                MetadataInfo(\n",
    "                    name = \"userName\",\n",
    "                    type = \"string\",\n",
    "                    description=\"User name of the reviewer\"\n",
    "                ),\n",
    "                MetadataInfo(\n",
    "                    name = \"rating\",\n",
    "                    type = \"float\",\n",
    "                    description=\"Rating given by the reviewer\"\n",
    "                ),\n",
    "                MetadataInfo(\n",
    "                    name = \"thumbsUpCount\",\n",
    "                    type = \"int\",\n",
    "                    description=\"Number of thumbs up i.e. the relevance of the review\"\n",
    "                ),\n",
    "                MetadataInfo(\n",
    "                    name = \"appVersion\",\n",
    "                    type = \"string\",\n",
    "                    description=\"App version of the app for which review is given\"\n",
    "                ),\n",
    "                MetadataInfo(\n",
    "                    name = \"replyContent\",\n",
    "                    type = \"string\",\n",
    "                    description=\"Reply content to the review by any other user\"\n",
    "                ),\n",
    "                MetadataInfo(\n",
    "                    name = \"repliedAt\",\n",
    "                    type = \"string\",\n",
    "                    description=\"Date and time of the reply\"\n",
    "                ),\n",
    "                MetadataInfo(\n",
    "                    name = \"app_name\",\n",
    "                    type = \"string\",\n",
    "                    description=\"App name for which review is given\"\n",
    "                )\n",
    "            ]\n",
    "        )\n",
    "        self.llm = TogetherLLM(\n",
    "            model=llm_model_name, api_key=os.environ['TOGETHER_API_KEY']\n",
    "        )\n",
    "\n",
    "        self.verbose = verbose\n",
    "        self.similarity_top_k = similarity_top_k\n",
    "        self.summary_enabled = summary_enabled\n",
    "        self.summary_response_lang = summary_response_lang\n",
    "        self.summary_num_results = summary_num_results\n",
    "\n",
    "        self.build()\n",
    "    \n",
    "    def build(self):\n",
    "        self.auto_retriever = VectaraAutoRetriever(\n",
    "            vector_store_info=self.vector_store_info,\n",
    "            llm=self.llm,\n",
    "            index=self.index,\n",
    "            show_progress=True,\n",
    "            summary_enabled = self.summary_enabled,\n",
    "            summary_response_lang = self.summary_response_lang,\n",
    "            summary_num_results = self.summary_num_results,\n",
    "            verbose=self.verbose,\n",
    "        )\n",
    "        self.retriever = self.index.as_retriever(\n",
    "            similarity_top_k=self.similarity_top_k,\n",
    "            summary_enabled = self.summary_enabled,\n",
    "            summary_response_lang = self.summary_response_lang,\n",
    "            summary_num_results = self.summary_num_results,\n",
    "            llm = self.llm,\n",
    "            )\n",
    "        self.query_engine = self.index.as_query_engine(similarity_top_k=5)\n",
    "\n",
    "    def ingest_reviews(self,review_file_path,start=None,end=None):\n",
    "        self.reviews = get_reviews_from_file(review_file_path)[start:end]\n",
    "        self.review_nodes = convert_reviews_into_textnodes(self.reviews)\n",
    "        self.index = VectaraIndex(nodes = self.review_nodes, show_progress=True)\n",
    "        self.build()\n",
    "    \n",
    "    def ingest_nodes(self,nodes):\n",
    "        self.index = VectaraIndex(nodes = nodes, show_progress=True)\n",
    "        self.build()\n",
    "\n",
    "    def run(self,query , mode:str):\n",
    "        # query : query string\n",
    "        # mode : 'autoretriever' or 'retriever' or 'query_engine'\n",
    "        if mode == 'autoretriever':\n",
    "            return self.auto_retriever.retrieve(query)\n",
    "        elif mode == 'retriever':\n",
    "            return self.retriever.retrieve(query)\n",
    "        elif mode == 'query_engine':\n",
    "            return self.query_engine.query(query)\n",
    "        else:\n",
    "            return \"Invalid mode\""
   ]
  },
  {
   "cell_type": "code",
   "execution_count": null,
   "metadata": {},
   "outputs": [],
   "source": [
    "_review_file_path = './datas/api_result_reviews_relv_Google_Pay_Secure_UPI_payment_v0.json'\n",
    "_reviews = get_reviews_from_file(_review_file_path)\n",
    "_review_nodes = convert_reviews_into_textnodes(_reviews)"
   ]
  },
  {
   "cell_type": "code",
   "execution_count": null,
   "metadata": {},
   "outputs": [],
   "source": [
    "_review_nodes[0]"
   ]
  },
  {
   "cell_type": "code",
   "execution_count": 304,
   "metadata": {},
   "outputs": [
    {
     "name": "stdout",
     "output_type": "stream",
     "text": [
      "LLM is explicitly disabled. Using MockLLM.\n",
      "Embeddings have been explicitly disabled. Using MockEmbedding.\n"
     ]
    }
   ],
   "source": [
    "review_engine = ReviewEngine(\n",
    "    verbose=True, \n",
    "    similarity_top_k=2,\n",
    "    summary_enabled=False,\n",
    "    summary_response_lang=\"eng\",\n",
    "    summary_num_results=7,\n",
    "    llm_model_name=\"mistralai/Mixtral-8x7B-Instruct-v0.1\",\n",
    ")"
   ]
  },
  {
   "cell_type": "code",
   "execution_count": null,
   "metadata": {},
   "outputs": [],
   "source": [
    "# review_file_path = './datas/api_result_reviews_relv_Grand_Theft_Auto_San_Andreas_v0.json'\n",
    "# review_engine.ingest_reviews(review_file_path,end=20)"
   ]
  },
  {
   "cell_type": "code",
   "execution_count": null,
   "metadata": {},
   "outputs": [],
   "source": [
    "# ans = review_engine.run('What are the reviews from playstore',mode='autoretriever')"
   ]
  },
  {
   "cell_type": "code",
   "execution_count": null,
   "metadata": {},
   "outputs": [],
   "source": [
    "ans"
   ]
  },
  {
   "cell_type": "markdown",
   "metadata": {},
   "source": [
    "## Generic JSON Engine"
   ]
  },
  {
   "cell_type": "code",
   "execution_count": 274,
   "metadata": {},
   "outputs": [],
   "source": [
    "\"\"\"\n",
    "JSON_Engine is a wrapper over LlamaIndex JSON Query Engine\n",
    "It takes a JSON prompt and a pydanctic class name as input in the constructor\n",
    "It uses OpenAI API to generate the output\n",
    "\n",
    "run method processes the prompt and returns the output in the form of pydantic class object\n",
    "\"\"\"\n",
    "class JSON_Engine(BaseTool):\n",
    "    def __init__(self, prompt, class_name, llm_model_name: str = \"mistralai/Mixtral-8x7B-Instruct-v0.1\",temperature=0.1, api_key_name = \"TOGETHER_API_KEY\",parse=True):\n",
    "        self.output_parser = PydanticOutputParser(class_name)\n",
    "        self.llm = TogetherLLM(model=llm_model_name, api_key=os.environ[api_key_name], temperature=temperature)\n",
    "        # self.llm = OpenAI(model=\"gpt-3.5-turbo\", temperature=temperature)\n",
    "        self.json_prompt_str = prompt\n",
    "        self.class_name = class_name\n",
    "        self.json_prompt_str = self.output_parser.format(self.json_prompt_str)\n",
    "        self.json_prompt_tmpl = PromptTemplate(self.json_prompt_str)\n",
    "        if parse:\n",
    "            self.p = QueryPipeline(chain=[self.json_prompt_tmpl, self.llm, self.output_parser], verbose=False)\n",
    "        else:\n",
    "            self.p = QueryPipeline(chain=[self.json_prompt_tmpl, self.llm], verbose=False)\n",
    "    \n",
    "    def run(self, **kwargs):\n",
    "        response = self.p.run(**kwargs)\n",
    "        return response"
   ]
  },
  {
   "cell_type": "markdown",
   "metadata": {},
   "source": [
    "## Data Ingestion Pipeline"
   ]
  },
  {
   "cell_type": "code",
   "execution_count": 275,
   "metadata": {},
   "outputs": [],
   "source": [
    "class SubContext(BaseModel):\n",
    "    subContext:str = Field(...,description=\n",
    "                        \"\"\"\n",
    "                        Subset of a large review context which is relevant to the query. \n",
    "                        It should be a full sentence containing a single aspect of the review.\n",
    "                        \"\"\")\n",
    "    sentiment:str = Field(...,description=\n",
    "                           \"\"\"\n",
    "                             Sentiment of the review i.e. positive or negative\n",
    "                            'positive' means the review has positive sentiment\n",
    "                            'negative' means the review has negative sentiment\n",
    "                            \"\"\")\n",
    "    containsTechnicalTerms:bool = Field(...,description=\n",
    "                                        \"\"\"\n",
    "                                        Whether the sub context contains technical terms or not such as any glitch, bug, feature etc.\n",
    "                                        True means the sub context contains technical terms\n",
    "                                        False means the sub context does not contain technical terms\n",
    "                                        \"\"\")\n",
    "    \n",
    "\n",
    "class ListOfSubContext(BaseModel):\n",
    "    subContexts:List[SubContext] = Field(...,description=\n",
    "            \"\"\"\n",
    "            List of sub contexts extracted from the review context\n",
    "            \"\"\")\n",
    "\n",
    "class SubContextEngine:\n",
    "    def __init__(self):\n",
    "        self.engine = JSON_Engine(\"\"\"\n",
    "        Given a review context, extract the list of relevant sub contexts (between <<< and >>>):\n",
    "        <<<\n",
    "        {text}\n",
    "        >>>\n",
    "\n",
    "        Note: \n",
    "                These sub contexts should be all different aspects of the review context and should be full sentences. \n",
    "                Also provide the sentiment of each sub context and whether it contains any technical terms or not.\n",
    "        \"\"\",class_name = ListOfSubContext,temperature=0.1)\n",
    "    \n",
    "    def __call__(self,**kwargs):\n",
    "        return self.engine.run(**kwargs)    "
   ]
  },
  {
   "cell_type": "code",
   "execution_count": 276,
   "metadata": {},
   "outputs": [],
   "source": [
    "class Isssue(BaseModel):\n",
    "    issue:str = Field(...,description=\"\"\"\n",
    "    A negative aspect extracted from the review context. It should be a full sentence and complete.\n",
    "    \"\"\")\n",
    "\n",
    "    containsAnyReport:bool = Field(...,description=\"\"\"\n",
    "    Whether the issue contains any particular report or not. It may user is reporting some issue or bug like any glitch, crash, lag, something not working etc. \n",
    "    True means the issue contains any particular report\n",
    "    False means the issue does not contain any particular report\n",
    "    \"\"\")\n",
    "\n",
    "    featureRequest:bool = Field(...,description=\n",
    "    \"\"\"\n",
    "    Whether the issue is a feature request or not. It may user is unsatisfied with the current features and wants some new features / upgrade.\n",
    "    True means the issue is a feature request\n",
    "    False means the issue is not a feature request\n",
    "    \"\"\")\n",
    "\n",
    "class IssueList(BaseModel):\n",
    "    issues:List[Isssue] = Field(...,description=\n",
    "    \"\"\"\n",
    "    List of different Issues from review context\n",
    "    \"\"\"\n",
    "    )\n",
    "\n",
    "class IssueEngine:\n",
    "    def __init__(self):\n",
    "        self.engine = JSON_Engine(\"\"\"\n",
    "        Given a review context, extract the list of different negative aspects mentioned in the review context:\n",
    "        <<<\n",
    "        {text}\n",
    "        >>>\n",
    "\n",
    "        Note: \n",
    "        These aspects should be all different negative aspects of the review context and should be full sentences.\n",
    "        Also they must be complete i.e. they should not be a part of bigger aspects.\n",
    "        If there are no negative aspects, return an empty list. \n",
    "\n",
    "        \"\"\",class_name = IssueList,temperature=0.2)\n",
    "    \n",
    "    def __call__(self,**kwargs):\n",
    "        return self.engine.run(**kwargs)"
   ]
  },
  {
   "cell_type": "code",
   "execution_count": 277,
   "metadata": {},
   "outputs": [],
   "source": [
    "class ReviewDegenAndSentimentPipeline:\n",
    "    def __init__(self):\n",
    "        self.issue_engine = IssueEngine()\n",
    "    \n",
    "    def __call__(self,review):\n",
    "        issues = self.issue_engine(text=review)\n",
    "        issues = issues.dict()['issues']\n",
    "        return issues"
   ]
  },
  {
   "cell_type": "code",
   "execution_count": 278,
   "metadata": {},
   "outputs": [],
   "source": [
    "_sub_contexts = ReviewDegenAndSentimentPipeline()(review=\"\"\"\n",
    "Hi, After the last update, I'm not able to open the app. When I click on the login id, the UI disappear's and close the application. Kindly fix the issue ASAP. Secondly, the experience was excellent and swift before, but the cash back is very low. Everyone needs cash backs instead of irrelevant vouchers and coupons. Kindly bring these fixes ASAP. Keep growing guys. Thank you google pay.!!\n",
    "\"\"\")"
   ]
  },
  {
   "cell_type": "code",
   "execution_count": 279,
   "metadata": {},
   "outputs": [
    {
     "data": {
      "text/plain": [
       "[{'issue': \"I'm not able to open the app after the last update.\",\n",
       "  'containsAnyReport': True,\n",
       "  'featureRequest': False},\n",
       " {'issue': 'The cash back is very low.',\n",
       "  'containsAnyReport': False,\n",
       "  'featureRequest': True},\n",
       " {'issue': 'Users prefer cash backs over irrelevant vouchers and coupons.',\n",
       "  'containsAnyReport': False,\n",
       "  'featureRequest': True}]"
      ]
     },
     "execution_count": 279,
     "metadata": {},
     "output_type": "execute_result"
    }
   ],
   "source": [
    "_sub_contexts"
   ]
  },
  {
   "cell_type": "markdown",
   "metadata": {},
   "source": [
    "### Creating Routes for different team"
   ]
  },
  {
   "cell_type": "code",
   "execution_count": 280,
   "metadata": {},
   "outputs": [],
   "source": [
    "class UtterenceList(BaseModel):\n",
    "    utterenceList : List[str] = Field(...,description=\"\"\"List of different utterances / use case related to the given team's work\"\"\")\n",
    "\n",
    "class UtterenceEngine:\n",
    "    def __init__(self):\n",
    "        self.engine = JSON_Engine(\"\"\"\n",
    "        Given an app description (between ### and ###):\n",
    "        ###\n",
    "        {app_description}\n",
    "        ###\n",
    "\n",
    "\n",
    "        Given a team's scope of work (between <<< and >>>):\n",
    "        <<<\n",
    "        {scopes}\n",
    "        >>>\n",
    "\n",
    "        List down the more than 15 different utterances / use cases related to the given team's work and the app_description where they work.\n",
    "        These utterances should be full sentences and refers to the different bugs, features, improvements, etc. related to the team's work.\n",
    "        Strictly stick to the scope of work of the team.\n",
    "        \"\"\",class_name = UtterenceList,temperature=0.1)\n",
    "    \n",
    "    def __call__(self,**kwargs):\n",
    "        return self.engine.run(**kwargs)\n",
    "    "
   ]
  },
  {
   "cell_type": "code",
   "execution_count": 281,
   "metadata": {},
   "outputs": [],
   "source": [
    "class TechnicalSummary(BaseModel):\n",
    "    summary:str = Field(...,description=\n",
    "            \"\"\"\n",
    "            Summary of all technical details associated with the app\n",
    "            \"\"\")\n",
    "\n",
    "class TechnicalSummaryEngine:\n",
    "    def __init__(self):\n",
    "        self.engine = JSON_Engine(\"\"\"\n",
    "        Given a raw app description (between <<< and >>>):\n",
    "        <<<\n",
    "        {app_description}\n",
    "        >>>\n",
    "        \n",
    "        Summarize all the technical details associated with the app into a brief summary. Only include techincal features. \n",
    "        \"\"\",class_name = TechnicalSummary,temperature=0.1)\n",
    "    \n",
    "    def __call__(self,**kwargs):\n",
    "        return self.engine.run(**kwargs)"
   ]
  },
  {
   "cell_type": "code",
   "execution_count": null,
   "metadata": {},
   "outputs": [],
   "source": [
    "class Sem"
   ]
  },
  {
   "cell_type": "code",
   "execution_count": 282,
   "metadata": {},
   "outputs": [],
   "source": [
    "class TeamRoutePipeline:\n",
    "    def __init__(self, team_details_file_path:str, app_details_file_path:str,app_description=None,build_mode=False,score_threshold_config=None,score_threshold=0.82):\n",
    "        self.team_details_file_path = team_details_file_path\n",
    "        # load app details from the file\n",
    "        with open(app_details_file_path,'r') as f:\n",
    "            app_details = json.load(f)\n",
    "        with open(self.team_details_file_path,'r') as f:\n",
    "            self.team_details = json.load(f)\n",
    "\n",
    "        self.app_name = app_details[\"title\"]\n",
    "        self.app_description = app_description\n",
    "        self.utterance_engine = UtterenceEngine()\n",
    "        self.technical_summary_engine = TechnicalSummaryEngine()\n",
    "\n",
    "        self.routes = None\n",
    "        self.route_layer = None\n",
    "        self.routing_encoder = None\n",
    "        self.score_threshold_config = score_threshold_config\n",
    "        if score_threshold_config is None:\n",
    "            self.score_threshold_config = {team:score_threshold for team in self.team_details[\"teams\"]}\n",
    "\n",
    "        if app_description is None:\n",
    "            self.app_description = app_details[\"description\"]\n",
    "            self.summarized_app_description = self.technical_summary_engine(app_description=self.app_description).summary\n",
    "        if build_mode:\n",
    "            self.build()\n",
    "\n",
    "    def build(self):\n",
    "        # load team details from the file\n",
    "        with open(self.team_details_file_path,'r') as f:\n",
    "            self.team_details = json.load(f)\n",
    "        print(\"Building utterances ...\")\n",
    "        for i,team in tqdm(enumerate(self.team_details[\"teams\"])):\n",
    "            utterance_ans = self.utterance_engine(app_description=self.summarized_app_description,scopes=str(team[\"scopes\"])).utterenceList\n",
    "            self.team_details[\"teams\"][i][\"utterances\"] = utterance_ans\n",
    "        # save the updated team details to the file\n",
    "        with open(self.team_details_file_path,'w') as f:\n",
    "            json.dump(self.team_details,f,indent=4)  \n",
    "\n",
    "    def build_routes(self):\n",
    "        with open(self.team_details_file_path,'r') as f:\n",
    "            self.team_details = json.load(f)\n",
    "        self.routes = []\n",
    "        print(\"Building route layers ...\")\n",
    "        for i,team in tqdm(enumerate(self.team_details[\"teams\"])):\n",
    "            team_name = team[\"teamName\"]\n",
    "            \n",
    "            try:\n",
    "                team_utterances = team[\"utterances\"]\n",
    "            except:\n",
    "                print(f\"team_name : {team_name} has not utterances ... build_routes paused\")\n",
    "                return\n",
    "\n",
    "            route = Route(name=team_name,utterances=team_utterances,score_threshold=self.score_threshold_config[team_name])\n",
    "            self.routes.append(route)\n",
    "        self.routing_encoder = OpenAIEncoder()\n",
    "        self.route_layer = RouteLayer(encoder=self.routing_encoder, routes=self.routes)\n",
    "\n",
    "    def route_text(self, text):\n",
    "        if self.route_layer is None:\n",
    "            print(\"Routes are not built yet\")\n",
    "            return None\n",
    "        return self.route_layer(text)"
   ]
  },
  {
   "cell_type": "code",
   "execution_count": 296,
   "metadata": {},
   "outputs": [],
   "source": [
    "class ReviewRoutePipeline:\n",
    "    def __init__(self, team_route_obj):\n",
    "        self.review_degen_pipeline = ReviewDegenAndSentimentPipeline()\n",
    "        self.team_route_obj = team_route_obj\n",
    "\n",
    "    def __call__(self,review_nodes):\n",
    "        review_nodes_assigned = []\n",
    "        for review_node in review_nodes:\n",
    "            issues = self.review_degen_pipeline(review_node.text) \n",
    "            # assign each subset to a team\n",
    "            # Loop over subsets_with_sentiment \n",
    "            teams = []\n",
    "            review_node.metadata['assigned_teams'] = []\n",
    "            review_node.metadata['issues'] = []\n",
    "            review_node.metadata['detailed_issues'] = []\n",
    "            # review_node.metadata['positive_keywords'] = []\n",
    "            for issue in issues:\n",
    "                print(\">>> \",issue['issue'])\n",
    "                if issue[\"containsAnyReport\"] or issue['featureRequest']:\n",
    "                    team_name = self.team_route_obj.route_text(issue['issue'])\n",
    "                    print(team_name)\n",
    "                    team_name = team_name.name\n",
    "                    team_name = team_name if team_name else \"General\"\n",
    "                    print(f\"issue : {issue} assigned to Team: {team_name}\")\n",
    "                    teams.append(team_name)\n",
    "                    review_node.metadata['issues'].append(issue['issue'])\n",
    "                    review_node.metadata['detailed_issues'].append(issue)\n",
    "                    review_node.metadata['assigned_teams'].append(issue)\n",
    "            review_nodes_assigned.append(review_node)\n",
    "        return review_nodes_assigned"
   ]
  },
  {
   "cell_type": "code",
   "execution_count": 297,
   "metadata": {},
   "outputs": [
    {
     "name": "stdout",
     "output_type": "stream",
     "text": [
      "Building route layers ...\n"
     ]
    },
    {
     "name": "stderr",
     "output_type": "stream",
     "text": [
      "7it [00:00, 2253.10it/s]\n",
      "\u001b[32m2024-04-19 01:20:39 INFO semantic_router.utils.logger local\u001b[0m\n"
     ]
    }
   ],
   "source": [
    "team_route = TeamRoutePipeline(\n",
    "    team_details_file_path = './datas/team_details_Google_Pay_Secure_UPI_payment.json',\n",
    "    app_details_file_path = './datas/api_result_appdescr_Google_Pay_Secure_UPI_payment.json',\n",
    "    score_threshold_config={\n",
    "        'Payments Team': 0.1,\n",
    "        'Recharges and Bill Payments Team': 0.1,\n",
    "        'Rewards and Loyalty Team': 0.1,\n",
    "        'Loans and Banking Team': 0.1,\n",
    "        'Security and Fraud Prevention Team': 0.1,\n",
    "        'UPI Scan and PIN': 0.80,\n",
    "        'User Interface and User Experience': 0.0\n",
    "    }\n",
    ")\n",
    "\n",
    "# team_route.build()\n",
    "team_route.build_routes()"
   ]
  },
  {
   "cell_type": "code",
   "execution_count": 298,
   "metadata": {},
   "outputs": [
    {
     "data": {
      "text/plain": [
       "{'Payments Team': 0.1,\n",
       " 'Recharges and Bill Payments Team': 0.1,\n",
       " 'Rewards and Loyalty Team': 0.1,\n",
       " 'Loans and Banking Team': 0.1,\n",
       " 'Security and Fraud Prevention Team': 0.1,\n",
       " 'UPI Scan and PIN': 0.8,\n",
       " 'User Interface and User Experience': 0.82}"
      ]
     },
     "execution_count": 298,
     "metadata": {},
     "output_type": "execute_result"
    }
   ],
   "source": [
    "team_route.route_layer.get_thresholds()"
   ]
  },
  {
   "cell_type": "code",
   "execution_count": 299,
   "metadata": {},
   "outputs": [],
   "source": [
    "_review_route_pipeline = ReviewRoutePipeline(team_route)"
   ]
  },
  {
   "cell_type": "code",
   "execution_count": 303,
   "metadata": {},
   "outputs": [
    {
     "name": "stdout",
     "output_type": "stream",
     "text": [
      ">>>  not working properly from the last month\n",
      "name=None function_call=None similarity_score=None\n",
      "issue : {'issue': 'not working properly from the last month', 'containsAnyReport': True, 'featureRequest': False} assigned to Team: General\n",
      ">>>  my keyboard does not pop up. Not at all\n",
      "name=None function_call=None similarity_score=None\n",
      "issue : {'issue': 'my keyboard does not pop up. Not at all', 'containsAnyReport': True, 'featureRequest': False} assigned to Team: General\n",
      ">>>  I have not been able to understand the problem even after looking for it on google & Youtube\n",
      "name=None function_call=None similarity_score=None\n",
      "issue : {'issue': 'I have not been able to understand the problem even after looking for it on google & Youtube', 'containsAnyReport': True, 'featureRequest': False} assigned to Team: General\n",
      ">>>  I'm not able to open the app. When I click on the login id, the UI disappears and close the application.\n"
     ]
    },
    {
     "name": "stdout",
     "output_type": "stream",
     "text": [
      "name=None function_call=None similarity_score=None\n",
      "issue : {'issue': \"I'm not able to open the app. When I click on the login id, the UI disappears and close the application.\", 'containsAnyReport': True, 'featureRequest': False} assigned to Team: General\n",
      ">>>  The cash back is very low.\n",
      ">>>  Everyone needs cash backs instead of irrelevant vouchers and coupons.\n",
      "name='Rewards and Loyalty Team' function_call=None similarity_score=None\n",
      "issue : {'issue': 'Everyone needs cash backs instead of irrelevant vouchers and coupons.', 'containsAnyReport': False, 'featureRequest': True} assigned to Team: Rewards and Loyalty Team\n"
     ]
    }
   ],
   "source": [
    "_review_nodes_routed = _review_route_pipeline(_review_nodes[:2])"
   ]
  },
  {
   "cell_type": "code",
   "execution_count": 305,
   "metadata": {},
   "outputs": [
    {
     "name": "stdout",
     "output_type": "stream",
     "text": [
      "LLM is explicitly disabled. Using MockLLM.\n",
      "Embeddings have been explicitly disabled. Using MockEmbedding.\n"
     ]
    }
   ],
   "source": [
    "review_engine.ingest_nodes(_review_nodes_routed)"
   ]
  },
  {
   "cell_type": "code",
   "execution_count": null,
   "metadata": {},
   "outputs": [],
   "source": [
    "_review_nodes_routed"
   ]
  },
  {
   "cell_type": "code",
   "execution_count": 306,
   "metadata": {},
   "outputs": [
    {
     "data": {
      "text/plain": [
       "[TextNode(id_='cffa1994-02d8-4c58-b387-b82df504bf58', embedding=None, metadata={'source': 'playstore', 'date_time': '2024-03-22 20:15:35', 'reviewId': 'cffa1994-02d8-4c58-b387-b82df504bf58', 'userName': 'Athene Refer Code:- aa40c739a6', 'rating': '4', 'thumbsUpCount': '5266', 'appVersion': '219.1.3 (arm64-v8a_release_flutter)', 'replyContent': 'None', 'repliedAt': 'NaN', 'text': 'Best And Superfast App...But, not working properly from the last month. I can scan any barcode and make the payment through it. But, when opt for mobile transfer to any person, my keyboard does not pop up. Not at all. Please help, as I tried everything. I cleared its data, cache, and even unistalled & reinstalled the app. But, all in vain. I have not been able to understand the problem even after looking for it on google & Youtube.😃', 'app_name': 'Google_Pay_Secure_UPI_payment', 'assigned_teams': [{'issue': 'not working properly from the last month', 'containsAnyReport': True, 'featureRequest': False}, {'issue': 'my keyboard does not pop up. Not at all', 'containsAnyReport': True, 'featureRequest': False}, {'issue': 'I have not been able to understand the problem even after looking for it on google & Youtube', 'containsAnyReport': True, 'featureRequest': False}], 'positive_subsets': ['Best And Superfast App', 'I can scan any barcode and make the payment through it'], 'negative_subsets': ['when opt for mobile transfer to any person, my keyboard does not pop up', 'I cleared its data, cache, and even unistalled & reinstalled the app'], 'subsets_with_sentiment': [{'subContext': 'Best And Superfast App', 'sentiment': 'positive', 'containsTechnicalTerms': False}, {'subContext': 'not working properly from the last month', 'sentiment': 'negative', 'containsTechnicalTerms': False}, {'subContext': 'I can scan any barcode and make the payment through it', 'sentiment': 'positive', 'containsTechnicalTerms': True}, {'subContext': 'when opt for mobile transfer to any person, my keyboard does not pop up', 'sentiment': 'negative', 'containsTechnicalTerms': True}, {'subContext': 'I cleared its data, cache, and even unistalled & reinstalled the app', 'sentiment': 'negative', 'containsTechnicalTerms': True}, {'subContext': 'I have not been able to understand the problem even after looking for it on google & Youtube', 'sentiment': 'negative', 'containsTechnicalTerms': False}], 'issues': ['not working properly from the last month', 'my keyboard does not pop up. Not at all', 'I have not been able to understand the problem even after looking for it on google & Youtube'], 'detailed_issues': [{'issue': 'not working properly from the last month', 'containsAnyReport': True, 'featureRequest': False}, {'issue': 'my keyboard does not pop up. Not at all', 'containsAnyReport': True, 'featureRequest': False}, {'issue': 'I have not been able to understand the problem even after looking for it on google & Youtube', 'containsAnyReport': True, 'featureRequest': False}], 'positive_keywords': []}, excluded_embed_metadata_keys=[], excluded_llm_metadata_keys=[], relationships={}, text='Best And Superfast App...But, not working properly from the last month. I can scan any barcode and make the payment through it. But, when opt for mobile transfer to any person, my keyboard does not pop up. Not at all. Please help, as I tried everything. I cleared its data, cache, and even unistalled & reinstalled the app. But, all in vain. I have not been able to understand the problem even after looking for it on google & Youtube.😃', start_char_idx=None, end_char_idx=None, text_template='{metadata_str}\\n\\n{content}', metadata_template='{key}: {value}', metadata_seperator='\\n'),\n",
       " TextNode(id_='16df9b36-a2ad-46be-9166-976fe735b5bd', embedding=None, metadata={'source': 'playstore', 'date_time': '2024-03-23 21:25:15', 'reviewId': '16df9b36-a2ad-46be-9166-976fe735b5bd', 'userName': 'Pooja pandit', 'rating': '5', 'thumbsUpCount': '3007', 'appVersion': '219.1.3 (armeabi-v7a_release_flutter)', 'replyContent': 'None', 'repliedAt': 'NaN', 'text': \"Hi, After the last update, I'm not able to open the app. When I click on the login id, the UI disappear's and close the application. Kindly fix the issue ASAP. Secondly, the experience was excellent and swift before, but the cash back is very low. Everyone needs cash backs instead of irrelevant vouchers and coupons. Kindly bring these fixes ASAP. Keep growing guys. Thank you google pay.!!\", 'app_name': 'Google_Pay_Secure_UPI_payment', 'assigned_teams': [{'issue': \"I'm not able to open the app. When I click on the login id, the UI disappears and close the application.\", 'containsAnyReport': True, 'featureRequest': False}, {'issue': 'Everyone needs cash backs instead of irrelevant vouchers and coupons.', 'containsAnyReport': False, 'featureRequest': True}], 'positive_subsets': [], 'negative_subsets': [\"I'm not able to open the app. When I click on the login id, the UI disappear's and close the application.\"], 'subsets_with_sentiment': [{'subContext': \"I'm not able to open the app. When I click on the login id, the UI disappear's and close the application.\", 'sentiment': 'negative', 'containsTechnicalTerms': True}, {'subContext': 'The experience was excellent and swift before, but the cash back is very low.', 'sentiment': 'negative', 'containsTechnicalTerms': False}, {'subContext': 'Everyone needs cash backs instead of irrelevant vouchers and coupons.', 'sentiment': 'negative', 'containsTechnicalTerms': False}], 'issues': [\"I'm not able to open the app. When I click on the login id, the UI disappears and close the application.\", 'Everyone needs cash backs instead of irrelevant vouchers and coupons.'], 'detailed_issues': [{'issue': \"I'm not able to open the app. When I click on the login id, the UI disappears and close the application.\", 'containsAnyReport': True, 'featureRequest': False}, {'issue': 'Everyone needs cash backs instead of irrelevant vouchers and coupons.', 'containsAnyReport': False, 'featureRequest': True}], 'positive_keywords': []}, excluded_embed_metadata_keys=[], excluded_llm_metadata_keys=[], relationships={}, text=\"Hi, After the last update, I'm not able to open the app. When I click on the login id, the UI disappear's and close the application. Kindly fix the issue ASAP. Secondly, the experience was excellent and swift before, but the cash back is very low. Everyone needs cash backs instead of irrelevant vouchers and coupons. Kindly bring these fixes ASAP. Keep growing guys. Thank you google pay.!!\", start_char_idx=None, end_char_idx=None, text_template='{metadata_str}\\n\\n{content}', metadata_template='{key}: {value}', metadata_seperator='\\n')]"
      ]
     },
     "execution_count": 306,
     "metadata": {},
     "output_type": "execute_result"
    }
   ],
   "source": [
    "_review_nodes_routed"
   ]
  },
  {
   "cell_type": "code",
   "execution_count": null,
   "metadata": {},
   "outputs": [],
   "source": []
  }
 ],
 "metadata": {
  "kernelspec": {
   "display_name": "myenv",
   "language": "python",
   "name": "python3"
  },
  "language_info": {
   "codemirror_mode": {
    "name": "ipython",
    "version": 3
   },
   "file_extension": ".py",
   "mimetype": "text/x-python",
   "name": "python",
   "nbconvert_exporter": "python",
   "pygments_lexer": "ipython3",
   "version": "3.10.4"
  }
 },
 "nbformat": 4,
 "nbformat_minor": 2
}
