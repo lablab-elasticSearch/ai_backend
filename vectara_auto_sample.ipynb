{
 "cells": [
  {
   "cell_type": "code",
   "execution_count": 9,
   "metadata": {},
   "outputs": [],
   "source": [
    "from llama_index.core.schema import TextNode\n",
    "from llama_index.core.indices.managed.types import ManagedIndexQueryMode\n",
    "from llama_index.indices.managed.vectara import VectaraIndex\n",
    "from llama_index.indices.managed.vectara import VectaraAutoRetriever\n",
    "\n",
    "from llama_index.core.vector_stores import MetadataInfo, VectorStoreInfo\n",
    "\n",
    "from llama_index.llms.openai import OpenAI\n",
    "import dotenv"
   ]
  },
  {
   "cell_type": "code",
   "execution_count": 10,
   "metadata": {},
   "outputs": [
    {
     "data": {
      "text/plain": [
       "True"
      ]
     },
     "execution_count": 10,
     "metadata": {},
     "output_type": "execute_result"
    }
   ],
   "source": [
    "dotenv.load_dotenv()"
   ]
  },
  {
   "cell_type": "code",
   "execution_count": 11,
   "metadata": {},
   "outputs": [],
   "source": [
    "nodes = [\n",
    "    TextNode(\n",
    "        text=(\n",
    "            \"A pragmatic paleontologist touring an almost complete theme park on an island \"\n",
    "            + \"in Central America is tasked with protecting a couple of kids after a power \"\n",
    "            + \"failure causes the park's cloned dinosaurs to run loose.\"\n",
    "        ),\n",
    "        metadata={\"year\": 1993, \"rating\": 7.7, \"genre\": \"science fiction\"},\n",
    "    ),\n",
    "    TextNode(\n",
    "        text=(\n",
    "            \"A thief who steals corporate secrets through the use of dream-sharing technology \"\n",
    "            + \"is given the inverse task of planting an idea into the mind of a C.E.O., \"\n",
    "            + \"but his tragic past may doom the project and his team to disaster.\"\n",
    "        ),\n",
    "        metadata={\n",
    "            \"year\": 2010,\n",
    "            \"director\": \"Christopher Nolan\",\n",
    "            \"rating\": 8.2,\n",
    "        },\n",
    "    ),\n",
    "    TextNode(\n",
    "        text=\"Barbie suffers a crisis that leads her to question her world and her existence.\",\n",
    "        metadata={\n",
    "            \"year\": 2023,\n",
    "            \"director\": \"Greta Gerwig\",\n",
    "            \"genre\": \"fantasy\",\n",
    "            \"rating\": 9.5,\n",
    "        },\n",
    "    ),\n",
    "    TextNode(\n",
    "        text=(\n",
    "            \"A cowboy doll is profoundly threatened and jealous when a new spaceman action \"\n",
    "            + \"figure supplants him as top toy in a boy's bedroom.\"\n",
    "        ),\n",
    "        metadata={\"year\": 1995, \"genre\": \"animated\", \"rating\": 8.3},\n",
    "    ),\n",
    "    TextNode(\n",
    "        text=(\n",
    "            \"When Woody is stolen by a toy collector, Buzz and his friends set out on a \"\n",
    "            + \"rescue mission to save Woody before he becomes a museum toy property with his \"\n",
    "            + \"roundup gang Jessie, Prospector, and Bullseye. \"\n",
    "        ),\n",
    "        metadata={\"year\": 1999, \"genre\": \"animated\", \"rating\": 7.9},\n",
    "    ),\n",
    "    TextNode(\n",
    "        text=(\n",
    "            \"The toys are mistakenly delivered to a day-care center instead of the attic \"\n",
    "            + \"right before Andy leaves for college, and it's up to Woody to convince the \"\n",
    "            + \"other toys that they weren't abandoned and to return home.\"\n",
    "        ),\n",
    "        metadata={\"year\": 2010, \"genre\": \"animated\", \"rating\": 8.3},\n",
    "    ),\n",
    "]"
   ]
  },
  {
   "cell_type": "code",
   "execution_count": 12,
   "metadata": {},
   "outputs": [
    {
     "name": "stdout",
     "output_type": "stream",
     "text": [
      "LLM is explicitly disabled. Using MockLLM.\n",
      "Embeddings have been explicitly disabled. Using MockEmbedding.\n"
     ]
    }
   ],
   "source": [
    "index = VectaraIndex(nodes=nodes)"
   ]
  },
  {
   "cell_type": "code",
   "execution_count": 13,
   "metadata": {},
   "outputs": [],
   "source": [
    "vector_store_info = VectorStoreInfo(\n",
    "    content_info=\"information about a movie\",\n",
    "    metadata_info=[\n",
    "        MetadataInfo(\n",
    "            name=\"genre\",\n",
    "            description=\"The genre of the movie. One of ['science fiction', 'comedy', 'drama', 'thriller', 'romance', 'action', 'animated']\",\n",
    "            type=\"string\",\n",
    "        ),\n",
    "        MetadataInfo(\n",
    "            name=\"year\",\n",
    "            description=\"The year the movie was released\",\n",
    "            type=\"integer\",\n",
    "        ),\n",
    "        MetadataInfo(\n",
    "            name=\"director\",\n",
    "            description=\"The name of the movie director\",\n",
    "            type=\"string\",\n",
    "        ),\n",
    "        MetadataInfo(\n",
    "            name=\"rating\",\n",
    "            description=\"A 1-10 rating for the movie\",\n",
    "            type=\"float\",\n",
    "        ),\n",
    "    ],\n",
    ")"
   ]
  },
  {
   "cell_type": "code",
   "execution_count": 14,
   "metadata": {},
   "outputs": [],
   "source": [
    "from llama_index.indices.managed.vectara import VectaraAutoRetriever\n",
    "from llama_index.core.indices.service_context import ServiceContext\n",
    "from llama_index.llms.openai import OpenAI\n",
    "from llama_index.llms.together import TogetherLLM\n",
    "import os\n",
    "\n",
    "llm = TogetherLLM(model=\"mistralai/Mixtral-8x7B-Instruct-v0.1\", api_key=os.environ['TOGETHER_API_KEY'])\n",
    "# llm = OpenAI(model=\"gpt-3.5-turbo\", temperature=0)"
   ]
  },
  {
   "cell_type": "code",
   "execution_count": 15,
   "metadata": {},
   "outputs": [
    {
     "data": {
      "text/plain": [
       "[]"
      ]
     },
     "execution_count": 15,
     "metadata": {},
     "output_type": "execute_result"
    }
   ],
   "source": [
    "retriever = VectaraAutoRetriever(\n",
    "    index,\n",
    "    vector_store_info=vector_store_info,\n",
    "    llm=llm,\n",
    "    filter=\"doc.rating > 8\",\n",
    ")\n",
    "retriever.retrieve(\"movie about toys\")"
   ]
  },
  {
   "cell_type": "code",
   "execution_count": 16,
   "metadata": {},
   "outputs": [
    {
     "data": {
      "text/plain": [
       "[]"
      ]
     },
     "execution_count": 16,
     "metadata": {},
     "output_type": "execute_result"
    }
   ],
   "source": [
    "retriever = VectaraAutoRetriever(\n",
    "    index,\n",
    "    vector_store_info=vector_store_info,\n",
    "    llm=llm,\n",
    "    filter=\"doc.rating > 8\",\n",
    "    vectara_query_mode=\"mmr\",\n",
    "    mmr_k=50,\n",
    "    mmr_diversity_bias=1,\n",
    ")\n",
    "retriever.retrieve(\"movie about toys\")"
   ]
  },
  {
   "cell_type": "code",
   "execution_count": null,
   "metadata": {},
   "outputs": [],
   "source": []
  }
 ],
 "metadata": {
  "kernelspec": {
   "display_name": "myenv",
   "language": "python",
   "name": "python3"
  },
  "language_info": {
   "codemirror_mode": {
    "name": "ipython",
    "version": 3
   },
   "file_extension": ".py",
   "mimetype": "text/x-python",
   "name": "python",
   "nbconvert_exporter": "python",
   "pygments_lexer": "ipython3",
   "version": "3.10.4"
  }
 },
 "nbformat": 4,
 "nbformat_minor": 2
}
