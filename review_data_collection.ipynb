{
 "cells": [
  {
   "cell_type": "code",
   "execution_count": 1,
   "metadata": {},
   "outputs": [],
   "source": [
    "import ssl\n",
    "try:\n",
    "    _create_unverified_https_context = ssl._create_unverified_context\n",
    "except AttributeError:\n",
    "    pass\n",
    "else:\n",
    "    ssl._create_default_https_context = _create_unverified_https_context"
   ]
  },
  {
   "cell_type": "code",
   "execution_count": 2,
   "metadata": {},
   "outputs": [],
   "source": [
    "import google_play_scraper\n",
    "import os\n",
    "from datetime import datetime as dt\n",
    "import json\n",
    "import re"
   ]
  },
  {
   "cell_type": "markdown",
   "metadata": {},
   "source": [
    "### Get Review utils"
   ]
  },
  {
   "cell_type": "code",
   "execution_count": 3,
   "metadata": {},
   "outputs": [],
   "source": [
    "def get_review_data(app_id,lang_list=['en'], country_list=['us','in'],\n",
    "                    sort=google_play_scraper.Sort.NEWEST,\n",
    "                    count=1000):\n",
    "    \"\"\"\n",
    "    Get review data for specified languages and countries.\n",
    "\n",
    "    Args:\n",
    "    lang_list (list): List of language codes.\n",
    "    country_list (list): List of country codes.\n",
    "    sort: Sorting criterion for reviews.\n",
    "    count: Number of reviews to fetch.\n",
    "\n",
    "    Returns:\n",
    "    dict: Dictionary containing review data for each country and language combination.\n",
    "    \"\"\"\n",
    "    review_data = {}\n",
    "    review_data_serl = {}\n",
    "\n",
    "    for lang in lang_list:\n",
    "        for country in country_list:\n",
    "            try:\n",
    "                result = google_play_scraper.reviews(\n",
    "                    app_id,\n",
    "                    lang=lang,\n",
    "                    country=country,\n",
    "                    sort=sort,\n",
    "                    count=count\n",
    "                )\n",
    "\n",
    "                review_data_entry = {\n",
    "                    'country': country,\n",
    "                    'lang': lang,\n",
    "                    'review_response': result[0]\n",
    "                }\n",
    "\n",
    "                review_data[f\"{country}-{lang}\"] = review_data_entry\n",
    "                for i in range(len(review_data_entry['review_response'])):\n",
    "                  _at = review_data_entry['review_response'][i]['at']\n",
    "                  _reat = review_data_entry['review_response'][i]['repliedAt']\n",
    "                  review_data_entry['review_response'][i]['at'] = _at.strftime(\"%Y-%m-%d %H:%M:%S\") if _at is not None else \"NaN\"\n",
    "                  review_data_entry['review_response'][i]['repliedAt'] = _reat.strftime(\"%Y-%m-%d %H:%M:%S\") if _reat is not None else \"NaN\"\n",
    "                review_data_serl[f\"{country}-{lang}\"] = review_data_entry\n",
    "\n",
    "            except Exception as e:\n",
    "                print(f\"Error fetching reviews for {lang} in {country}: {e}\")\n",
    "\n",
    "    return review_data,review_data_serl"
   ]
  },
  {
   "cell_type": "markdown",
   "metadata": {},
   "source": [
    "### Running the prompts"
   ]
  },
  {
   "cell_type": "code",
   "execution_count": 9,
   "metadata": {},
   "outputs": [],
   "source": [
    "# Define the app ID or package name of the app you want to fetch reviews for\n",
    "APP_ID = 'com.google.android.apps.nbu.paisa.user'"
   ]
  },
  {
   "cell_type": "code",
   "execution_count": 10,
   "metadata": {},
   "outputs": [
    {
     "name": "stdout",
     "output_type": "stream",
     "text": [
      "App Title: Google Pay: Secure UPI payment\n",
      "App Developer: Google LLC\n"
     ]
    }
   ],
   "source": [
    "# Fetch basic information about the app\n",
    "loaded_api_result_app = google_play_scraper.app(APP_ID,country='in',lang='en')\n",
    "\n",
    "# Creeating app name keeping only alphabets and splitting by space\n",
    "APP_NAME = re.sub(r'[^a-zA-Z ]+', '', loaded_api_result_app['title']).replace(\" \",\"_\")\n",
    "\n",
    "# Print basic information about the app\n",
    "print(\"App Title:\", loaded_api_result_app['title'])\n",
    "print(\"App Developer:\", loaded_api_result_app['developer'])\n",
    "\n",
    "# store the loaded api result\n",
    "with open(f\"./datas/api_result_appdescr_{APP_NAME}.json\", 'w') as f:\n",
    "    json.dump(loaded_api_result_app, f,indent=4)"
   ]
  },
  {
   "cell_type": "code",
   "execution_count": 11,
   "metadata": {},
   "outputs": [],
   "source": [
    "review_data,review_data_serl = get_review_data(\n",
    "    app_id = APP_ID,\n",
    "    lang_list=['en'],\n",
    "    country_list=['in'],\n",
    "    sort=google_play_scraper.Sort.MOST_RELEVANT,\n",
    "    count=10000\n",
    ")"
   ]
  },
  {
   "cell_type": "code",
   "execution_count": 12,
   "metadata": {},
   "outputs": [],
   "source": [
    "standard_review_data_serl = []\n",
    "for cl in review_data_serl:\n",
    "  for _ in review_data_serl[cl]['review_response']:\n",
    "    rev = _\n",
    "    temp = {}\n",
    "    temp['title'] = \"Ticket created from Playstore review \"+rev['reviewId']\n",
    "    temp['text'] = rev['content']\n",
    "    temp['date'] = rev['at']\n",
    "    temp['source'] = \"playstore\"\n",
    "    temp['metadata'] = rev\n",
    "    temp['metadata']['cou_lan'] = cl\n",
    "    temp['app_name']=APP_NAME\n",
    "    standard_review_data_serl.append(temp)"
   ]
  },
  {
   "cell_type": "code",
   "execution_count": 13,
   "metadata": {},
   "outputs": [],
   "source": [
    "with open(f\"./datas/api_result_reviews_relv_{APP_NAME}_v{0}.json\", 'w') as f:\n",
    "    json.dump(standard_review_data_serl, f,indent=4)"
   ]
  },
  {
   "cell_type": "code",
   "execution_count": null,
   "metadata": {},
   "outputs": [],
   "source": []
  },
  {
   "cell_type": "code",
   "execution_count": null,
   "metadata": {},
   "outputs": [],
   "source": []
  }
 ],
 "metadata": {
  "kernelspec": {
   "display_name": "myenv",
   "language": "python",
   "name": "python3"
  },
  "language_info": {
   "codemirror_mode": {
    "name": "ipython",
    "version": 3
   },
   "file_extension": ".py",
   "mimetype": "text/x-python",
   "name": "python",
   "nbconvert_exporter": "python",
   "pygments_lexer": "ipython3",
   "version": "3.10.4"
  }
 },
 "nbformat": 4,
 "nbformat_minor": 2
}
